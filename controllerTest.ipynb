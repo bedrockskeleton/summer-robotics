{
 "cells": [
  {
   "cell_type": "markdown",
   "id": "46dde6d1",
   "metadata": {},
   "source": [
    "# Controlling your Robot using Pygame"
   ]
  },
  {
   "cell_type": "code",
   "execution_count": null,
   "id": "691302ef",
   "metadata": {},
   "outputs": [],
   "source": [
    "import pygame\n",
    "from buildhat import Motor, Matrix"
   ]
  },
  {
   "cell_type": "code",
   "execution_count": null,
   "id": "6dfbfd51",
   "metadata": {},
   "outputs": [],
   "source": [
    "# Connecting accessories before we boot up Pygame\n",
    "matrix = Matrix('B')\n",
    "motors = [Motor('C'), Motor('D')]"
   ]
  }
 ],
 "metadata": {
  "language_info": {
   "name": "python"
  }
 },
 "nbformat": 4,
 "nbformat_minor": 5
}
